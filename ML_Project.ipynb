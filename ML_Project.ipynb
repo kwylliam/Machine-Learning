{
  "cells": [
    {
      "cell_type": "markdown",
      "metadata": {
        "id": "P7BgibtfKe6_"
      },
      "source": [
        "Comp 4980 Final Project: Solving Difficult Integrals by reframing them as Ordinary Differential Equations and Using Neural Networks\n",
        "\n",
        "William Mwangi\n",
        "\n",
        "T00622533"
      ]
    },
    {
      "cell_type": "markdown",
      "metadata": {
        "id": "C2HFOXSLKe7B"
      },
      "source": [
        "The ideas on how to code this are gotten from the following 2 articles\n",
        "\n",
        "https://towardsdatascience.com/using-neural-networks-to-solve-ordinary-differential-equations-a7806de99cdd\n",
        "\n",
        "\n",
        "https://towardsdatascience.com/how-to-solve-an-ode-with-a-neural-network-917d11918932"
      ]
    },
    {
      "cell_type": "code",
      "execution_count": null,
      "metadata": {
        "id": "mZsmin6rKe7C"
      },
      "outputs": [],
      "source": [
        "import torch\n",
        "from torch import nn\n",
        "import numpy as np"
      ]
    },
    {
      "cell_type": "code",
      "execution_count": null,
      "metadata": {
        "id": "UhJMzjdoKe7E"
      },
      "outputs": [],
      "source": [
        "#Create tensors to hold input an output\n",
        "\n",
        "x=torch.linspace(0, 10, 100)\n",
        "\n",
        "f0=torch.tensor([1])\n",
        "\n",
        "inf_s = np.sqrt(np.finfo(np.float32).eps)\n",
        "\n",
        "x1= x.unsqueeze(-1)\n",
        "y1=2*x1"
      ]
    },
    {
      "cell_type": "code",
      "execution_count": null,
      "metadata": {
        "id": "zdS_6hA0Ke7F"
      },
      "outputs": [],
      "source": [
        "#model1\n",
        "layers = []\n",
        "layers.append(nn.Linear(1, 32))\n",
        "layers.append(nn.Tanh())\n",
        "layers.append(nn.Linear(32, 32))\n",
        "layers.append(nn.Sigmoid())\n",
        "layers.append(nn.Linear(32,16))\n",
        "layers.append(nn.Sigmoid())\n",
        "layers.append(nn.Linear(16,1))\n",
        "layers.append(nn.LeakyReLU(negative_slope=0.1))\n",
        "\n",
        "model1=nn.Sequential(*layers)"
      ]
    },
    {
      "cell_type": "code",
      "execution_count": null,
      "metadata": {
        "id": "T1uGuzjbKe7F"
      },
      "outputs": [],
      "source": [
        "#define loss\n",
        "loss_fn = torch.nn.MSELoss(reduction='sum')"
      ]
    },
    {
      "cell_type": "code",
      "execution_count": null,
      "metadata": {
        "id": "4kWEwSkVKe7G"
      },
      "outputs": [],
      "source": [
        "def g(var):\n",
        "    return 1+model1(var)"
      ]
    },
    {
      "cell_type": "code",
      "execution_count": null,
      "metadata": {
        "colab": {
          "base_uri": "https://localhost:8080/"
        },
        "id": "kDfnW6CzKe7H",
        "outputId": "f0aca53f-fd45-4b95-aa3f-633140a4de12"
      },
      "outputs": [
        {
          "name": "stdout",
          "output_type": "stream",
          "text": [
            "99 12302.7568359375\n",
            "199 11701.5234375\n",
            "299 11566.2880859375\n",
            "399 11309.568359375\n",
            "499 11174.1865234375\n",
            "599 11010.6064453125\n",
            "699 10992.07421875\n",
            "799 10851.2255859375\n",
            "899 10778.24609375\n",
            "999 13596.244140625\n",
            "1099 13349.4267578125\n",
            "1199 13314.203125\n",
            "1299 13295.1767578125\n",
            "1399 13277.58984375\n",
            "1499 13257.8056640625\n",
            "1599 13234.240234375\n",
            "1699 13205.205078125\n",
            "1799 13170.8603515625\n",
            "1899 13130.5859375\n",
            "1999 13081.125\n",
            "2099 13020.94921875\n",
            "2199 12941.3310546875\n",
            "2299 12824.267578125\n",
            "2399 12622.6220703125\n",
            "2499 12221.8447265625\n",
            "2599 11850.2080078125\n",
            "2699 10750.2568359375\n",
            "2799 8889.9931640625\n",
            "2899 7675.52001953125\n",
            "2999 11544.7548828125\n",
            "3099 10694.62109375\n",
            "3199 9670.3779296875\n",
            "3299 8468.70703125\n",
            "3399 7063.13134765625\n",
            "3499 5447.57958984375\n",
            "3599 4896.5302734375\n",
            "3699 3895.875\n",
            "3799 3687.233154296875\n",
            "3899 3406.2783203125\n",
            "3999 2895.6455078125\n",
            "4099 2445.92578125\n",
            "4199 2066.54931640625\n",
            "4299 1791.1806640625\n",
            "4399 1705.096923828125\n",
            "4499 1376.666259765625\n",
            "4599 1134.120361328125\n",
            "4699 973.1773681640625\n",
            "4799 953.4615478515625\n",
            "4899 1151.4794921875\n",
            "4999 1307.482666015625\n",
            "5099 1290.3646240234375\n",
            "5199 1276.4344482421875\n",
            "5299 1478.3079833984375\n",
            "5399 534.2598266601562\n",
            "5499 487.6091003417969\n",
            "5599 449.5567932128906\n",
            "5699 332.067138671875\n",
            "5799 258.51416015625\n",
            "5899 201.13124084472656\n",
            "5999 156.2306365966797\n",
            "6099 120.09098052978516\n",
            "6199 91.97654724121094\n",
            "6299 69.88375854492188\n",
            "6399 52.45153045654297\n",
            "6499 38.70772171020508\n",
            "6599 27.880489349365234\n",
            "6699 22.283939361572266\n",
            "6799 15.472661972045898\n",
            "6899 16.265071868896484\n",
            "6999 14.374238967895508\n",
            "7099 12.954324722290039\n",
            "7199 11.860544204711914\n",
            "7299 11.025711059570312\n",
            "7399 10.33083438873291\n",
            "7499 9.71556282043457\n",
            "7599 9.316640853881836\n",
            "7699 8.844975471496582\n",
            "7799 8.484782218933105\n",
            "7899 8.188162803649902\n",
            "7999 7.9845147132873535\n",
            "8099 7.694969177246094\n",
            "8199 7.498274803161621\n",
            "8299 7.2972517013549805\n",
            "8399 7.068266868591309\n",
            "8499 6.952525615692139\n",
            "8599 8.758545875549316\n",
            "8699 3.389340877532959\n",
            "8799 1.9376763105392456\n",
            "8899 1.2669086456298828\n",
            "8999 0.9470019340515137\n",
            "9099 0.7065914869308472\n",
            "9199 0.6344951391220093\n",
            "9299 0.5242981314659119\n",
            "9399 0.5250983834266663\n",
            "9499 0.4091022312641144\n",
            "9599 0.4677577316761017\n",
            "9699 0.357625275850296\n",
            "9799 0.3085215091705322\n",
            "9899 0.31899118423461914\n",
            "9999 0.3090178668498993\n"
          ]
        }
      ],
      "source": [
        "#training the model\n",
        "learning_rate=0.01\n",
        "optimizer = torch.optim.Adam(model1.parameters(), lr=0.01)\n",
        "epochs=10000\n",
        "\n",
        "for epoch in range(epochs):\n",
        "    \n",
        "    output=g(x1)\n",
        "    y_pred=(g(x1+inf_s)-output)/inf_s\n",
        "    \n",
        "    loss =loss_fn(y_pred,y1)\n",
        "\n",
        "    if epoch % 100 == 99:\n",
        "        print(epoch, loss.item())\n",
        "     \n",
        "    if (loss.item()<0.1):\n",
        "        print(\"sufficiently accurate model obtained\")\n",
        "        break\n",
        "    \n",
        "    optimizer.zero_grad()\n",
        "\n",
        "    loss.backward()\n",
        "\n",
        "    optimizer.step()"
      ]
    },
    {
      "cell_type": "code",
      "execution_count": null,
      "metadata": {
        "colab": {
          "base_uri": "https://localhost:8080/",
          "height": 265
        },
        "id": "euMtFtOGKe7J",
        "outputId": "a1f22fd7-6486-4dd2-f490-896b3a1f3123"
      },
      "outputs": [
        {
          "data": {
            "image/png": "[encoded data removed]",
            "text/plain": [
              "<Figure size 432x288 with 1 Axes>"
            ]
          },
          "metadata": {},
          "output_type": "display_data"
        }
      ],
      "source": [
        "import matplotlib.pyplot as plt\n",
        "\n",
        "x=np.linspace(0,10,100)\n",
        "approx=[]\n",
        "f=model1(x1)\n",
        "for i in range(100):\n",
        "    p=f[i][0]\n",
        "    approx.append(p.item())\n",
        "y=x**2+1\n",
        "plt.plot(x,y, \"-r\", label='Actual Solution')\n",
        "plt.plot(x,approx, label=\"approximation\")\n",
        "plt.legend()\n",
        "plt.show()"
      ]
    },
    {
      "cell_type": "markdown",
      "metadata": {
        "id": "FGb9kx_zKe7J"
      },
      "source": [
        "Now we solve a more difficult integral\n"
      ]
    },
    {
      "cell_type": "markdown",
      "metadata": {
        "id": "2MhInKVjKe7K"
      },
      "source": [
        "$$\\int\\frac{1}{x^2-x+1}dx$$"
      ]
    },
    {
      "cell_type": "code",
      "execution_count": null,
      "metadata": {
        "id": "Ynyu1ToZKe7K"
      },
      "outputs": [],
      "source": [
        "#Create input and output tensors\n",
        "\n",
        "x=torch.linspace(-10,10,10000)\n",
        "xx=x.unsqueeze(-1)\n",
        "y=1/(x**2-x+1)\n",
        "inf_s = np.sqrt(np.finfo(np.float32).eps)"
      ]
    },
    {
      "cell_type": "code",
      "execution_count": null,
      "metadata": {
        "id": "TliulMk7Ke7L"
      },
      "outputs": [],
      "source": [
        "#my model\n",
        "#model1\n",
        "layers = []\n",
        "layers.append(nn.Linear(1, 32))\n",
        "layers.append(nn.Tanh())\n",
        "layers.append(nn.Linear(32, 32))\n",
        "layers.append(nn.Tanh())\n",
        "layers.append(nn.Linear(32,16))\n",
        "layers.append(nn.Sigmoid())\n",
        "layers.append(nn.Linear(16,1))\n",
        "layers.append(nn.LeakyReLU(negative_slope=0.1))\n",
        "\n",
        "model2=nn.Sequential(*layers)"
      ]
    },
    {
      "cell_type": "code",
      "execution_count": null,
      "metadata": {
        "id": "5PmVpBtBKe7L"
      },
      "outputs": [],
      "source": [
        "#define g(x) a function that accounts for the intital conditions\n",
        "def g(var):\n",
        "    return model2(var)"
      ]
    },
    {
      "cell_type": "code",
      "execution_count": null,
      "metadata": {
        "colab": {
          "background_save": true,
          "base_uri": "https://localhost:8080/"
        },
        "id": "lkKLeacFKe7M",
        "outputId": "2eca41b6-9303-4dbb-a366-fc36fed34913"
      },
      "outputs": [
        {
          "name": "stderr",
          "output_type": "stream",
          "text": [
            "/usr/local/lib/python3.9/dist-packages/torch/nn/modules/loss.py:536: UserWarning: Using a target size (torch.Size([10000])) that is different to the input size (torch.Size([10000, 1])). This will likely lead to incorrect results due to broadcasting. Please ensure they have the same size.\n",
            "  return F.mse_loss(input, target, reduction=self.reduction)\n"
          ]
        },
        {
          "name": "stdout",
          "output_type": "stream",
          "text": [
            "99 9158456.0\n",
            "199 9151343.0\n",
            "299 9151051.0\n",
            "399 9150971.0\n",
            "499 9150941.0\n",
            "599 9150927.0\n",
            "699 9150918.0\n",
            "799 9150913.0\n",
            "899 9150909.0\n",
            "999 9150907.0\n",
            "1099 9150904.0\n",
            "1199 9150902.0\n",
            "1299 9150901.0\n",
            "1399 9150899.0\n",
            "1499 9150898.0\n",
            "1599 9150897.0\n",
            "1699 9150896.0\n",
            "1799 9150895.0\n",
            "1899 9150895.0\n",
            "1999 9150894.0\n",
            "2099 9150895.0\n",
            "2199 9150894.0\n",
            "2299 9150893.0\n",
            "2399 9150894.0\n",
            "2499 9150893.0\n",
            "2599 9150893.0\n",
            "2699 9150893.0\n",
            "2799 9150892.0\n",
            "2899 9150942.0\n",
            "2999 9150896.0\n",
            "3099 9150948.0\n",
            "3199 9151048.0\n",
            "3299 9151352.0\n",
            "3399 9151404.0\n",
            "3499 9151089.0\n",
            "3599 9150911.0\n",
            "3699 9150979.0\n",
            "3799 9151166.0\n",
            "3899 9150946.0\n",
            "3999 9150914.0\n",
            "4099 9150897.0\n",
            "4199 9151872.0\n",
            "4299 9151178.0\n",
            "4399 9150912.0\n",
            "4499 9151587.0\n",
            "4599 9150902.0\n",
            "4699 9151042.0\n",
            "4799 9151482.0\n",
            "4899 9150934.0\n",
            "4999 9150934.0\n",
            "5099 9150909.0\n"
          ]
        }
      ],
      "source": [
        "#training the model\n",
        "learning_rate=0.01\n",
        "optimizer = torch.optim.Adam(model2.parameters(), lr=0.01)\n",
        "epochs=10000\n",
        "\n",
        "for epoch in range(epochs):\n",
        "    \n",
        "    output=g(xx)\n",
        "    y_pred=(g(xx+inf_s)-output)/inf_s\n",
        "    \n",
        "    loss =loss_fn(y_pred,y)\n",
        "\n",
        "    if epoch % 100 == 99:\n",
        "        print(epoch, loss.item())\n",
        "     \n",
        "    if (loss.item()<0.1):\n",
        "        print(\"sufficiently accurate model obtained\")\n",
        "        break\n",
        "    \n",
        "    optimizer.zero_grad()\n",
        "\n",
        "    loss.backward()\n",
        "\n",
        "    optimizer.step()"
      ]
    },
    {
      "cell_type": "code",
      "execution_count": null,
      "metadata": {
        "id": "l9yw0BscKe7N"
      },
      "outputs": [],
      "source": [
        "#solve the integral analytically using scipy\n",
        "\n",
        "import scipy \n",
        "\n",
        "from scipy.integrate import cumtrapz"
      ]
    },
    {
      "cell_type": "code",
      "execution_count": null,
      "metadata": {
        "id": "nIqL7xe6Ke7N"
      },
      "outputs": [],
      "source": [
        "x=np.linspace(-10,10,10000)\n",
        "dep_var=1/(x**2-x+1)\n",
        "integral=cumtrapz(dep_var,x, initial=0)"
      ]
    },
    {
      "cell_type": "code",
      "execution_count": null,
      "metadata": {
        "id": "HRQtqCAVKe7N"
      },
      "outputs": [],
      "source": [
        "integral.size"
      ]
    },
    {
      "cell_type": "code",
      "execution_count": null,
      "metadata": {
        "id": "Sm98dgzvKe7O"
      },
      "outputs": [],
      "source": [
        "import matplotlib.pyplot as plt\n",
        "\n",
        "approx=[]\n",
        "f=model2(xx)\n",
        "for i in range(10000):\n",
        "    p=f[i][0]\n",
        "    approx.append(p.item())\n",
        "\n",
        "plt.plot(x,integral, \"-r\", label='Scipy Solution')\n",
        "plt.plot(x,approx, label=\"NN solution\")\n",
        "plt.legend()\n",
        "plt.show()"
      ]
    },
    {
      "cell_type": "markdown",
      "metadata": {
        "id": "jUF6gkUoKe7P"
      },
      "source": [
        "The Integral above has the following analytical solution which is rather difficult to compute. Calculation can be found at : https://xaktly.com/ToughIntegrals.html \n",
        "\n",
        "$$\\frac{3 \\sqrt{3}}{8} tan^{-1} \\left( \\frac{2}{\\sqrt{3}} \\left( x - \\frac{1}{2} \\right)\\right) + C$$"
      ]
    },
    {
      "cell_type": "markdown",
      "metadata": {
        "id": "eWEk4FdxKe7P"
      },
      "source": [
        "Finally we Try a integral with no analytical solution\n",
        "\n",
        "$$\\int e^{-(sin(x)}dx$$"
      ]
    },
    {
      "cell_type": "code",
      "execution_count": null,
      "metadata": {
        "id": "NkxDG7QLKe7P"
      },
      "outputs": [],
      "source": [
        "x3=torch.linspace(-np.pi, np.pi, 1000)\n",
        "x3=x3.unsqueeze(-1)\n",
        "\n",
        "y3=torch.exp(-torch.sin(x3))"
      ]
    },
    {
      "cell_type": "code",
      "execution_count": null,
      "metadata": {
        "id": "dao36iBBKe7P"
      },
      "outputs": [],
      "source": [
        "#my model\n",
        "#model1\n",
        "layers = []\n",
        "layers.append(nn.Linear(1, 32))\n",
        "layers.append(nn.Tanh())\n",
        "layers.append(nn.Linear(32, 32))\n",
        "layers.append(nn.Sigmoid())\n",
        "layers.append(nn.Linear(32,16))\n",
        "layers.append(nn.Sigmoid())\n",
        "layers.append(nn.Linear(16,1))\n",
        "layers.append(nn.LeakyReLU(negative_slope=0.1))\n",
        "\n",
        "model3=nn.Sequential(*layers)"
      ]
    },
    {
      "cell_type": "code",
      "execution_count": null,
      "metadata": {
        "id": "CWIlq70PKe7Q"
      },
      "outputs": [],
      "source": [
        "#define g(x) a function that accounts for the intital conditions\n",
        "def g(var):\n",
        "    return model3(var)"
      ]
    },
    {
      "cell_type": "code",
      "execution_count": null,
      "metadata": {
        "id": "HavLRTzwKe7Q"
      },
      "outputs": [],
      "source": [
        "#training the model\n",
        "learning_rate=0.01\n",
        "optimizer = torch.optim.Adam(model3.parameters(), lr=0.01)\n",
        "epochs=10000\n",
        "\n",
        "for epoch in range(epochs):\n",
        "    \n",
        "    output=g(x3)\n",
        "    y_pred=(g(x3+inf_s)-output)/inf_s\n",
        "    \n",
        "    loss =loss_fn(y_pred,y3)\n",
        "\n",
        "    if epoch % 100 == 99:\n",
        "        print(epoch, loss.item())\n",
        "     \n",
        "    if (loss.item()<0.1):\n",
        "        print(\"sufficiently accurate model obtained\")\n",
        "        break\n",
        "    \n",
        "    optimizer.zero_grad()\n",
        "\n",
        "    loss.backward()\n",
        "\n",
        "    optimizer.step()"
      ]
    },
    {
      "cell_type": "code",
      "execution_count": null,
      "metadata": {
        "id": "edsYKOLLKe7R"
      },
      "outputs": [],
      "source": [
        "#solve using scipy\n",
        "\n",
        "x=np.linspace(-np.pi,np.pi,1000)\n",
        "dep_var=np.exp(-np.sin(x))\n",
        "integral3=cumtrapz(dep_var,x, initial=0)"
      ]
    },
    {
      "cell_type": "code",
      "execution_count": null,
      "metadata": {
        "id": "nQa7WheqKe7R"
      },
      "outputs": [],
      "source": [
        "import matplotlib.pyplot as plt\n",
        "\n",
        "approx=[]\n",
        "f=model3(x3)\n",
        "for i in range(1000):\n",
        "    p=f[i][0]\n",
        "    approx.append(p.item())\n",
        "\n",
        "plt.plot(x,integral3, \"-r\", label='Scipy Solution')\n",
        "plt.plot(x,approx, label=\"NN solution\")\n",
        "plt.legend()\n",
        "plt.show()"
      ]
    }
  ],
  "metadata": {
    "colab": {
      "provenance": []
    },
    "interpreter": {
      "hash": "31f2aee4e71d21fbe5cf8b01ff0e069b9275f58929596ceb00d14d90e3e16cd6"
    },
    "kernelspec": {
      "display_name": "Python 3.8.10 64-bit",
      "language": "python",
      "name": "python3"
    },
    "language_info": {
      "codemirror_mode": {
        "name": "ipython",
        "version": 3
      },
      "file_extension": ".py",
      "mimetype": "text/x-python",
      "name": "python",
      "nbconvert_exporter": "python",
      "pygments_lexer": "ipython3",
      "version": "3.8.10"
    }
  },
  "nbformat": 4,
  "nbformat_minor": 0
}